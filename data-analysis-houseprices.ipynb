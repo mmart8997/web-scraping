{
 "cells": [
  {
   "cell_type": "markdown",
   "metadata": {},
   "source": [
    "# Data Analysis\n",
    "\n",
    "### Objetivo: \n",
    "#### Com base na tabela \"houseprices\" criada após a limpeza dos dados obtidos por web scraping, o conteúdo do dataset será análisado para responder algumas perguntas e por fim alguns modelos regressivos serão testados para tentar prever o preço dos imóveis com base em suas características.\n",
    "\n",
    "****************\n",
    "\n",
    "##### Listei abaixo as 8 perguntas que eu quero responder com essa análise.\n",
    "1. Qual é o valor mínimo, médio, mediano e máximo dos imóveis do Ipiranga?\n",
    "2. Quais são as principais características encontradas nesses imóveis?\n",
    "3. Quais são os anunciantes com maior quantidade de ofertas?\n",
    "4. Quem é o anunciante com os preços mais altos e mais baixos?\n",
    "5. Qual é a relação entre as características do imóvel e o valor?\n",
    "6. Quais imóveis são outliers nessa base?\n",
    "7. Qual imóvel é o melhor custo-benefício desse dataset?\n",
    "8. Qual é o melhor modelo para prever os preços dos imóveis com base nas características encontradas neste dataset?"
   ]
  },
  {
   "cell_type": "code",
   "execution_count": 1,
   "metadata": {},
   "outputs": [],
   "source": [
    "# imports para a análise\n",
    "\n",
    "import sqlite3\n",
    "import numpy as np\n",
    "import pandas as pd\n",
    "from scipy.stats import zscore\n",
    "import seaborn as sns                   \n",
    "import matplotlib.pyplot as plt\n",
    "from matplotlib.ticker import PercentFormatter\n",
    "plt.style.use('ggplot')\n",
    "plt.rcParams['figure.figsize'] = 10, 5\n",
    "\n",
    "# imports para a criação do modelo de machine learning\n",
    "\n",
    "from sklearn.model_selection import train_test_split\n",
    "#from sklearn.linear_model import RidgeCV, LassoCV, Ridge, Lasso\n",
    "from sklearn import metrics\n",
    "from sklearn.ensemble import RandomForestRegressor\n",
    "#from sklearn.metrics import roc_curve, auc\n",
    "from sklearn.linear_model import LinearRegression\n",
    "#from sklearn import linear_model\n",
    "from sklearn.neighbors import KNeighborsRegressor\n",
    "from sklearn.tree import DecisionTreeRegressor\n",
    "from sklearn.ensemble import BaggingRegressor\n",
    "from sklearn.ensemble import VotingRegressor"
   ]
  },
  {
   "cell_type": "code",
   "execution_count": 2,
   "metadata": {},
   "outputs": [],
   "source": [
    "# Conecta com o SQLite\n",
    "\n",
    "conn = sqlite3.connect('C:/python/web-scraping/house-prices/houseprices.db')\n",
    "cur = conn.cursor()"
   ]
  },
  {
   "cell_type": "code",
   "execution_count": 3,
   "metadata": {},
   "outputs": [],
   "source": [
    "# extrai dos dados do SQLite\n",
    "\n",
    "df = pd.read_sql_query(\"\"\"\n",
    "\n",
    "select\n",
    "     area\n",
    "    ,quarto\n",
    "    ,banheiro\n",
    "    ,vagas_garagem\n",
    "    ,valor_imovel\n",
    "    ,anunciante \n",
    "    ,endereco \n",
    "    ,link\n",
    "from houseprices_vivareal_cleaned\n",
    "where tipo_imovel = 'Casa'\n",
    "and bairro = 'Ipiranga'\n",
    "and area is not null\n",
    "\n",
    "\"\"\", conn)"
   ]
  },
  {
   "cell_type": "code",
   "execution_count": 4,
   "metadata": {},
   "outputs": [
    {
     "name": "stdout",
     "output_type": "stream",
     "text": [
      "<class 'pandas.core.frame.DataFrame'>\n",
      "RangeIndex: 1571 entries, 0 to 1570\n",
      "Data columns (total 8 columns):\n",
      " #   Column         Non-Null Count  Dtype  \n",
      "---  ------         --------------  -----  \n",
      " 0   area           1571 non-null   float64\n",
      " 1   quarto         1570 non-null   float64\n",
      " 2   banheiro       1571 non-null   float64\n",
      " 3   vagas_garagem  1344 non-null   float64\n",
      " 4   valor_imovel   1571 non-null   float64\n",
      " 5   anunciante     1571 non-null   object \n",
      " 6   endereco       1571 non-null   object \n",
      " 7   link           1571 non-null   object \n",
      "dtypes: float64(5), object(3)\n",
      "memory usage: 98.3+ KB\n"
     ]
    }
   ],
   "source": [
    "df.info()"
   ]
  },
  {
   "cell_type": "markdown",
   "metadata": {},
   "source": [
    "#### Documentação:\n",
    "\n",
    "| Coluna | Descrição |\n",
    "|---|---|\n",
    "| area | area total do imóvel em m² |\n",
    "| quarto | quantidade de quartos |\n",
    "| banheiro | quantidade de banheiros |\n",
    "| vagas_garagem | quantidade de vagas para carro |\n",
    "| valor_imovel | valor do imóvel em reais |\n",
    "| anunciante | nome do anuncianete |\n",
    "| endereco | endereço do imóvel |\n",
    "| link | link do anúncio |\n"
   ]
  },
  {
   "cell_type": "code",
   "execution_count": 5,
   "metadata": {},
   "outputs": [
    {
     "data": {
      "text/html": [
       "<div>\n",
       "<style scoped>\n",
       "    .dataframe tbody tr th:only-of-type {\n",
       "        vertical-align: middle;\n",
       "    }\n",
       "\n",
       "    .dataframe tbody tr th {\n",
       "        vertical-align: top;\n",
       "    }\n",
       "\n",
       "    .dataframe thead th {\n",
       "        text-align: right;\n",
       "    }\n",
       "</style>\n",
       "<table border=\"1\" class=\"dataframe\">\n",
       "  <thead>\n",
       "    <tr style=\"text-align: right;\">\n",
       "      <th></th>\n",
       "      <th>area</th>\n",
       "      <th>quarto</th>\n",
       "      <th>banheiro</th>\n",
       "      <th>vagas_garagem</th>\n",
       "      <th>valor_imovel</th>\n",
       "      <th>anunciante</th>\n",
       "      <th>endereco</th>\n",
       "      <th>link</th>\n",
       "    </tr>\n",
       "  </thead>\n",
       "  <tbody>\n",
       "    <tr>\n",
       "      <th>0</th>\n",
       "      <td>230</td>\n",
       "      <td>3</td>\n",
       "      <td>4</td>\n",
       "      <td>6</td>\n",
       "      <td>800,000</td>\n",
       "      <td>Edson Costa Simões</td>\n",
       "      <td>Rua General Lecor - Ipiranga, São Paulo - SP</td>\n",
       "      <td>/imovel/casa-3-quartos-ipiranga-zona-sul-sao-p...</td>\n",
       "    </tr>\n",
       "    <tr>\n",
       "      <th>1</th>\n",
       "      <td>180</td>\n",
       "      <td>3</td>\n",
       "      <td>3</td>\n",
       "      <td>2</td>\n",
       "      <td>850,000</td>\n",
       "      <td>Luiz Otavio</td>\n",
       "      <td>Rua Lino Coutinho, 703 - Ipiranga, São Paulo - SP</td>\n",
       "      <td>/imovel/casa-3-quartos-ipiranga-zona-sul-sao-p...</td>\n",
       "    </tr>\n",
       "    <tr>\n",
       "      <th>2</th>\n",
       "      <td>83</td>\n",
       "      <td>3</td>\n",
       "      <td>1</td>\n",
       "      <td>NaN</td>\n",
       "      <td>445,200</td>\n",
       "      <td>Emcasa</td>\n",
       "      <td>Rua dos Ituanos - Ipiranga, São Paulo - SP</td>\n",
       "      <td>/imovel/casa-3-quartos-ipiranga-zona-sul-sao-p...</td>\n",
       "    </tr>\n",
       "    <tr>\n",
       "      <th>3</th>\n",
       "      <td>181</td>\n",
       "      <td>2</td>\n",
       "      <td>3</td>\n",
       "      <td>1</td>\n",
       "      <td>520,000</td>\n",
       "      <td>Marc Negócios Imobiliários</td>\n",
       "      <td>Rua Lino Coutinho - Ipiranga, São Paulo - SP</td>\n",
       "      <td>/imovel/casa-2-quartos-ipiranga-zona-sul-sao-p...</td>\n",
       "    </tr>\n",
       "    <tr>\n",
       "      <th>4</th>\n",
       "      <td>219</td>\n",
       "      <td>4</td>\n",
       "      <td>2</td>\n",
       "      <td>2</td>\n",
       "      <td>600,000</td>\n",
       "      <td>Emcasa</td>\n",
       "      <td>Rua Costa Aguiar - Ipiranga, São Paulo - SP</td>\n",
       "      <td>/imovel/casa-4-quartos-ipiranga-zona-sul-sao-p...</td>\n",
       "    </tr>\n",
       "  </tbody>\n",
       "</table>\n",
       "</div>"
      ],
      "text/plain": [
       "   area  quarto  banheiro  vagas_garagem  valor_imovel  \\\n",
       "0   230       3         4              6       800,000   \n",
       "1   180       3         3              2       850,000   \n",
       "2    83       3         1            NaN       445,200   \n",
       "3   181       2         3              1       520,000   \n",
       "4   219       4         2              2       600,000   \n",
       "\n",
       "                   anunciante  \\\n",
       "0          Edson Costa Simões   \n",
       "1                 Luiz Otavio   \n",
       "2                      Emcasa   \n",
       "3  Marc Negócios Imobiliários   \n",
       "4                      Emcasa   \n",
       "\n",
       "                                            endereco  \\\n",
       "0       Rua General Lecor - Ipiranga, São Paulo - SP   \n",
       "1  Rua Lino Coutinho, 703 - Ipiranga, São Paulo - SP   \n",
       "2         Rua dos Ituanos - Ipiranga, São Paulo - SP   \n",
       "3       Rua Lino Coutinho - Ipiranga, São Paulo - SP   \n",
       "4        Rua Costa Aguiar - Ipiranga, São Paulo - SP   \n",
       "\n",
       "                                                link  \n",
       "0  /imovel/casa-3-quartos-ipiranga-zona-sul-sao-p...  \n",
       "1  /imovel/casa-3-quartos-ipiranga-zona-sul-sao-p...  \n",
       "2  /imovel/casa-3-quartos-ipiranga-zona-sul-sao-p...  \n",
       "3  /imovel/casa-2-quartos-ipiranga-zona-sul-sao-p...  \n",
       "4  /imovel/casa-4-quartos-ipiranga-zona-sul-sao-p...  "
      ]
     },
     "execution_count": 5,
     "metadata": {},
     "output_type": "execute_result"
    }
   ],
   "source": [
    "# Exibe as ptimeiras linhas do dataset\n",
    "\n",
    "pd.options.display.float_format = '{:,.0f}'.format\n",
    "df.head()"
   ]
  },
  {
   "cell_type": "code",
   "execution_count": 6,
   "metadata": {},
   "outputs": [
    {
     "data": {
      "text/html": [
       "<div>\n",
       "<style scoped>\n",
       "    .dataframe tbody tr th:only-of-type {\n",
       "        vertical-align: middle;\n",
       "    }\n",
       "\n",
       "    .dataframe tbody tr th {\n",
       "        vertical-align: top;\n",
       "    }\n",
       "\n",
       "    .dataframe thead th {\n",
       "        text-align: right;\n",
       "    }\n",
       "</style>\n",
       "<table border=\"1\" class=\"dataframe\">\n",
       "  <thead>\n",
       "    <tr style=\"text-align: right;\">\n",
       "      <th></th>\n",
       "      <th>area</th>\n",
       "      <th>quarto</th>\n",
       "      <th>banheiro</th>\n",
       "      <th>vagas_garagem</th>\n",
       "      <th>valor_imovel</th>\n",
       "    </tr>\n",
       "  </thead>\n",
       "  <tbody>\n",
       "    <tr>\n",
       "      <th>count</th>\n",
       "      <td>1,571</td>\n",
       "      <td>1,570</td>\n",
       "      <td>1,571</td>\n",
       "      <td>1,344</td>\n",
       "      <td>1,571</td>\n",
       "    </tr>\n",
       "    <tr>\n",
       "      <th>mean</th>\n",
       "      <td>188</td>\n",
       "      <td>3</td>\n",
       "      <td>3</td>\n",
       "      <td>3</td>\n",
       "      <td>980,777</td>\n",
       "    </tr>\n",
       "    <tr>\n",
       "      <th>std</th>\n",
       "      <td>96</td>\n",
       "      <td>1</td>\n",
       "      <td>1</td>\n",
       "      <td>2</td>\n",
       "      <td>557,240</td>\n",
       "    </tr>\n",
       "    <tr>\n",
       "      <th>min</th>\n",
       "      <td>31</td>\n",
       "      <td>1</td>\n",
       "      <td>1</td>\n",
       "      <td>1</td>\n",
       "      <td>47,000</td>\n",
       "    </tr>\n",
       "    <tr>\n",
       "      <th>25%</th>\n",
       "      <td>120</td>\n",
       "      <td>2</td>\n",
       "      <td>2</td>\n",
       "      <td>2</td>\n",
       "      <td>630,000</td>\n",
       "    </tr>\n",
       "    <tr>\n",
       "      <th>50%</th>\n",
       "      <td>168</td>\n",
       "      <td>3</td>\n",
       "      <td>2</td>\n",
       "      <td>2</td>\n",
       "      <td>850,000</td>\n",
       "    </tr>\n",
       "    <tr>\n",
       "      <th>75%</th>\n",
       "      <td>226</td>\n",
       "      <td>3</td>\n",
       "      <td>3</td>\n",
       "      <td>3</td>\n",
       "      <td>1,200,000</td>\n",
       "    </tr>\n",
       "    <tr>\n",
       "      <th>max</th>\n",
       "      <td>840</td>\n",
       "      <td>9</td>\n",
       "      <td>8</td>\n",
       "      <td>20</td>\n",
       "      <td>5,500,000</td>\n",
       "    </tr>\n",
       "  </tbody>\n",
       "</table>\n",
       "</div>"
      ],
      "text/plain": [
       "       area  quarto  banheiro  vagas_garagem  valor_imovel\n",
       "count 1,571   1,570     1,571          1,344         1,571\n",
       "mean    188       3         3              3       980,777\n",
       "std      96       1         1              2       557,240\n",
       "min      31       1         1              1        47,000\n",
       "25%     120       2         2              2       630,000\n",
       "50%     168       3         2              2       850,000\n",
       "75%     226       3         3              3     1,200,000\n",
       "max     840       9         8             20     5,500,000"
      ]
     },
     "execution_count": 6,
     "metadata": {},
     "output_type": "execute_result"
    }
   ],
   "source": [
    "# Exibe o resumo estatístico do dataset\n",
    "\n",
    "df.describe()"
   ]
  },
  {
   "cell_type": "code",
   "execution_count": 7,
   "metadata": {},
   "outputs": [],
   "source": [
    "# preenche os nulos com 0\n",
    "\n",
    "df.fillna(0, inplace=True)"
   ]
  },
  {
   "cell_type": "markdown",
   "metadata": {},
   "source": [
    "### Vamos começar a responder as perguntas\n",
    "#### 1. Qual é o valor mínimo, médio, mediano e máximo dos imóveis do Ipiranga?"
   ]
  },
  {
   "cell_type": "code",
   "execution_count": 8,
   "metadata": {},
   "outputs": [
    {
     "name": "stdout",
     "output_type": "stream",
     "text": [
      "Valor mínimo:  R$ 47.000\n",
      "Valor máximo:  R$ 5.500.000\n",
      "Valor médio:   R$ 980.777\n",
      "Valor mediano: R$ 850.000\n",
      "Desvio padrão: R$ 557.062\n",
      "Coeficiente de variação: 0.5680\n"
     ]
    }
   ],
   "source": [
    "print('Valor mínimo: ' ,\"R$ {:,.0f}\".format(np.min(df['valor_imovel'])).replace(',','.'))\n",
    "print('Valor máximo: ' ,\"R$ {:,.0f}\".format(np.max(df['valor_imovel'])).replace(',','.'))\n",
    "print('Valor médio:  ' ,\"R$ {:,.0f}\".format(np.mean(df['valor_imovel'])).replace(',','.'))\n",
    "print('Valor mediano:',\"R$ {:,.0f}\".format(np.median(df['valor_imovel'])).replace(',','.'))\n",
    "print('Desvio padrão:' ,\"R$ {:,.0f}\".format(np.std(df['valor_imovel'])).replace(',','.'))\n",
    "print('Coeficiente de variação:' ,\"{:,.4f}\".format(np.std(df['valor_imovel'])/np.mean(df['valor_imovel'])))"
   ]
  },
  {
   "cell_type": "markdown",
   "metadata": {},
   "source": [
    "Os valores das casas no dataset são bastante dispersos variando de 47k até 5,5MM, e fogem bastante da média.\n",
    "Metade das casas desse dataset valem até 850k e a outra metade estão acima desse valor. Isso já é um bom parâmetro sobre o que vamos encontrar nesses dados.\n",
    "\n",
    "Veja abaixo a ilustração da distribuição dos valores dos imóveis do Ipiranga por valor."
   ]
  },
  {
   "cell_type": "code",
   "execution_count": 9,
   "metadata": {},
   "outputs": [
    {
     "data": {
      "image/png": "[encoded data removed]",
      "text/plain": [
       "<Figure size 1800x360 with 1 Axes>"
      ]
     },
     "metadata": {},
     "output_type": "display_data"
    }
   ],
   "source": [
    "f, (ax) = plt.subplots(1, figsize=(25, 5))\n",
    "plot_valor = df['valor_imovel'].values\n",
    "sns.histplot (plot_valor, color='#293352', kde=True, linewidth=0)\n",
    "ax.set_title('DISTRIBUIÇÃO DOS VALORES DOS IMÓVEIS (R$ milhões)', fontsize=14)\n",
    "ax.set_xlim(0,np.max(df['valor_imovel']))\n",
    "start, end = ax.get_xlim()\n",
    "ax.xaxis.set_ticks(np.arange(start, end+100000, 250000));"
   ]
  },
  {
   "cell_type": "markdown",
   "metadata": {},
   "source": [
    "#### 2. Quais são as principais características encontradas nesses imóveis?"
   ]
  },
  {
   "cell_type": "code",
   "execution_count": 10,
   "metadata": {},
   "outputs": [
    {
     "data": {
      "image/png": "[encoded data removed]",
      "text/plain": [
       "<Figure size 2160x720 with 4 Axes>"
      ]
     },
     "metadata": {},
     "output_type": "display_data"
    }
   ],
   "source": [
    "fig = plt.figure(figsize=(30,10))\n",
    "ax1 = plt.subplot2grid((3,3), (1,1)); sns.histplot(data = df.area,kde=True )                                 \n",
    "ax2 = plt.subplot2grid((3,3), (1,2)); sns.histplot(data = df.quarto)                                   \n",
    "ax3 = plt.subplot2grid((3,3), (2,1)); sns.histplot(data = df.banheiro)                              \n",
    "ax3 = plt.subplot2grid((3,3), (2,2)); sns.histplot(data = df.vagas_garagem)                  \n",
    "fig.tight_layout()          "
   ]
  },
  {
   "cell_type": "markdown",
   "metadata": {},
   "source": [
    "#### As principais características desses imóveis são:\n",
    "* A área total da maior parte das casas possui menos de 200 metros;\n",
    "* É mais comum encontrar casas com até duas vagas na garagem;\n",
    "* A maior parte dessas casas tem entre dois e três quartos e banheiros;"
   ]
  },
  {
   "cell_type": "markdown",
   "metadata": {},
   "source": [
    "#### 3. Quais são os anunciantes com maior quantidade de ofertas?"
   ]
  },
  {
   "cell_type": "code",
   "execution_count": 11,
   "metadata": {},
   "outputs": [
    {
     "data": {
      "image/png": "[encoded data removed]",
      "text/plain": [
       "<Figure size 720x360 with 2 Axes>"
      ]
     },
     "metadata": {},
     "output_type": "display_data"
    },
    {
     "name": "stdout",
     "output_type": "stream",
     "text": [
      "Total de anuncuantes no dataset: 290\n",
      "Total de ofertas dos 30 maiores anunciantes: 956\n"
     ]
    }
   ],
   "source": [
    "anunciante = df.groupby('anunciante')['valor_imovel'].agg(['count','sum','mean','median','max','min']).reset_index()\n",
    "\n",
    "anunciante_plot = anunciante.sort_values('count', ascending = False).reset_index()\n",
    "anunciante_plot.index = anunciante_plot['anunciante']\n",
    "anunciante_plot[\"cumpercentage\"] = anunciante_plot[\"count\"].cumsum()/anunciante_plot[\"count\"].sum()*100\n",
    "\n",
    "anunciante_plot = anunciante_plot.head(30)\n",
    "\n",
    "fig, ax = plt.subplots()\n",
    "ax.bar(anunciante_plot.index, anunciante_plot[\"count\"], color=\"C0\")\n",
    "ax2 = ax.twinx()\n",
    "ax2.plot(anunciante_plot.index, anunciante_plot[\"cumpercentage\"], color=\"C1\", marker=\"D\", ms=7)\n",
    "ax2.yaxis.set_major_formatter(PercentFormatter())\n",
    "\n",
    "ax.tick_params(axis=\"y\", colors=\"C0\")\n",
    "ax2.tick_params(axis=\"y\", colors=\"C1\")\n",
    "for tick in ax.get_xticklabels():\n",
    "    tick.set_rotation(90)\n",
    "plt.show()\n",
    "print('Total de anuncuantes no dataset:',anunciante.count().max())\n",
    "print('Total de ofertas dos 30 maiores anunciantes:',anunciante_plot['count'].sum())"
   ]
  },
  {
   "cell_type": "markdown",
   "metadata": {},
   "source": [
    "Cerca de 10% dos anunciantes somam 60% das ofertas presentes no dataset.\n",
    "\n",
    "Os destaques são:\n",
    "* Quinto Andar - Vendas\n",
    "* Marcelo Kavaleski\n",
    "* Marc Negócios Imobiliários"
   ]
  },
  {
   "cell_type": "markdown",
   "metadata": {},
   "source": [
    "#### 4. Quem é o anunciante com os preços mais altos e mais baixos?"
   ]
  },
  {
   "cell_type": "code",
   "execution_count": 12,
   "metadata": {},
   "outputs": [
    {
     "data": {
      "text/html": [
       "<div>\n",
       "<style scoped>\n",
       "    .dataframe tbody tr th:only-of-type {\n",
       "        vertical-align: middle;\n",
       "    }\n",
       "\n",
       "    .dataframe tbody tr th {\n",
       "        vertical-align: top;\n",
       "    }\n",
       "\n",
       "    .dataframe thead th {\n",
       "        text-align: right;\n",
       "    }\n",
       "</style>\n",
       "<table border=\"1\" class=\"dataframe\">\n",
       "  <thead>\n",
       "    <tr style=\"text-align: right;\">\n",
       "      <th></th>\n",
       "      <th>anunciante</th>\n",
       "      <th>count</th>\n",
       "      <th>median</th>\n",
       "      <th>mean</th>\n",
       "    </tr>\n",
       "  </thead>\n",
       "  <tbody>\n",
       "    <tr>\n",
       "      <th>100</th>\n",
       "      <td>Gonçalves Personnalite</td>\n",
       "      <td>1</td>\n",
       "      <td>4,410,000</td>\n",
       "      <td>4,410,000</td>\n",
       "    </tr>\n",
       "    <tr>\n",
       "      <th>239</th>\n",
       "      <td>Samuel Da Silva Anastacio Junior</td>\n",
       "      <td>1</td>\n",
       "      <td>3,500,000</td>\n",
       "      <td>3,500,000</td>\n",
       "    </tr>\n",
       "    <tr>\n",
       "      <th>233</th>\n",
       "      <td>Romário Imóveis &amp; Ipermutei</td>\n",
       "      <td>1</td>\n",
       "      <td>2,939,000</td>\n",
       "      <td>2,939,000</td>\n",
       "    </tr>\n",
       "    <tr>\n",
       "      <th>98</th>\n",
       "      <td>Giovanni Gentili Imóveis</td>\n",
       "      <td>1</td>\n",
       "      <td>2,400,000</td>\n",
       "      <td>2,400,000</td>\n",
       "    </tr>\n",
       "    <tr>\n",
       "      <th>31</th>\n",
       "      <td>Bem Aqui Imóveis</td>\n",
       "      <td>1</td>\n",
       "      <td>1,950,000</td>\n",
       "      <td>1,950,000</td>\n",
       "    </tr>\n",
       "  </tbody>\n",
       "</table>\n",
       "</div>"
      ],
      "text/plain": [
       "                           anunciante  count    median      mean\n",
       "100            Gonçalves Personnalite      1 4,410,000 4,410,000\n",
       "239  Samuel Da Silva Anastacio Junior      1 3,500,000 3,500,000\n",
       "233       Romário Imóveis & Ipermutei      1 2,939,000 2,939,000\n",
       "98           Giovanni Gentili Imóveis      1 2,400,000 2,400,000\n",
       "31                   Bem Aqui Imóveis      1 1,950,000 1,950,000"
      ]
     },
     "execution_count": 12,
     "metadata": {},
     "output_type": "execute_result"
    }
   ],
   "source": [
    "max_price = anunciante.sort_values('median', ascending = False).head(10)\n",
    "max_price[['anunciante','count','median','mean']].head(5)"
   ]
  },
  {
   "cell_type": "code",
   "execution_count": 13,
   "metadata": {},
   "outputs": [
    {
     "data": {
      "text/html": [
       "<div>\n",
       "<style scoped>\n",
       "    .dataframe tbody tr th:only-of-type {\n",
       "        vertical-align: middle;\n",
       "    }\n",
       "\n",
       "    .dataframe tbody tr th {\n",
       "        vertical-align: top;\n",
       "    }\n",
       "\n",
       "    .dataframe thead th {\n",
       "        text-align: right;\n",
       "    }\n",
       "</style>\n",
       "<table border=\"1\" class=\"dataframe\">\n",
       "  <thead>\n",
       "    <tr style=\"text-align: right;\">\n",
       "      <th></th>\n",
       "      <th>anunciante</th>\n",
       "      <th>count</th>\n",
       "      <th>median</th>\n",
       "      <th>mean</th>\n",
       "    </tr>\n",
       "  </thead>\n",
       "  <tbody>\n",
       "    <tr>\n",
       "      <th>126</th>\n",
       "      <td>Intermedium</td>\n",
       "      <td>1</td>\n",
       "      <td>47,000</td>\n",
       "      <td>47,000</td>\n",
       "    </tr>\n",
       "    <tr>\n",
       "      <th>86</th>\n",
       "      <td>Ferreira Santos</td>\n",
       "      <td>1</td>\n",
       "      <td>50,250</td>\n",
       "      <td>50,250</td>\n",
       "    </tr>\n",
       "    <tr>\n",
       "      <th>177</th>\n",
       "      <td>Marcio Construtor</td>\n",
       "      <td>1</td>\n",
       "      <td>60,000</td>\n",
       "      <td>60,000</td>\n",
       "    </tr>\n",
       "    <tr>\n",
       "      <th>61</th>\n",
       "      <td>Daiane Costa</td>\n",
       "      <td>1</td>\n",
       "      <td>82,500</td>\n",
       "      <td>82,500</td>\n",
       "    </tr>\n",
       "    <tr>\n",
       "      <th>71</th>\n",
       "      <td>Dreamcasa</td>\n",
       "      <td>9</td>\n",
       "      <td>260,000</td>\n",
       "      <td>257,333</td>\n",
       "    </tr>\n",
       "  </tbody>\n",
       "</table>\n",
       "</div>"
      ],
      "text/plain": [
       "            anunciante  count  median    mean\n",
       "126        Intermedium      1  47,000  47,000\n",
       "86     Ferreira Santos      1  50,250  50,250\n",
       "177  Marcio Construtor      1  60,000  60,000\n",
       "61        Daiane Costa      1  82,500  82,500\n",
       "71           Dreamcasa      9 260,000 257,333"
      ]
     },
     "execution_count": 13,
     "metadata": {},
     "output_type": "execute_result"
    }
   ],
   "source": [
    "min_price = anunciante.sort_values('median', ascending = True).head(10)\n",
    "min_price[['anunciante','count','median','mean']].head(5)"
   ]
  },
  {
   "cell_type": "markdown",
   "metadata": {},
   "source": [
    "##### Maiores Preços:\n",
    "\n",
    "Os anunciantes com preços mais altos são [ Gonçalves Personnalite, Samuel Da Silva Anastacio Junior, Romário Imóveis & Ipermutei\te Giovanni Gentili Imóveis ], esses imóveis ofertados passam de 2MM, entretanto, cada um desses anunciantes possuem apenas uma oferta no dataset.\n",
    "\n",
    "##### Menores Preços:\n",
    "\n",
    "Os menores preços no dataset são dos anunciantes [Intermedium, Ferreira Santos, Marcio Construtor, Daiane Costa e Dreamcasa], esses valores são realmente baixos, mas podem não ser reais ou estão com algum erro na classificação do tipo de imóvel e / ou valor."
   ]
  },
  {
   "cell_type": "markdown",
   "metadata": {},
   "source": [
    "#### 5. Qual é a correlação entre as características do imóvel e o valor?"
   ]
  },
  {
   "cell_type": "code",
   "execution_count": 14,
   "metadata": {},
   "outputs": [
    {
     "data": {
      "image/png": "[encoded data removed]",
      "text/plain": [
       "<Figure size 1821.6x360 with 4 Axes>"
      ]
     },
     "metadata": {},
     "output_type": "display_data"
    }
   ],
   "source": [
    "fig = plt.figure(figsize=(25.3,5))\n",
    "fig1 = fig.add_subplot(141); sns.regplot(x='area', y='valor_imovel', data=df)\n",
    "fig2 = fig.add_subplot(142); sns.regplot(x='quarto', y='valor_imovel', data=df);\n",
    "fig3 = fig.add_subplot(143); sns.regplot(x='banheiro', y='valor_imovel', data=df);\n",
    "fig4 = fig.add_subplot(144); sns.regplot(x='vagas_garagem', y='valor_imovel', data=df);"
   ]
  },
  {
   "cell_type": "markdown",
   "metadata": {},
   "source": [
    "Conforme os gráficos exibidos acima, todas as características dos imóveis desse dataset possuem correlação positiva com o valor dos imóveis, ou seja, o valor é maior quanto maior for área, mais quartos, mais banheiros e vagas para carro o imóvel possuir."
   ]
  },
  {
   "cell_type": "code",
   "execution_count": 15,
   "metadata": {},
   "outputs": [
    {
     "name": "stdout",
     "output_type": "stream",
     "text": [
      "Resumo das correlações:\n",
      "\n"
     ]
    },
    {
     "data": {
      "text/plain": [
       "valor_imovel    1.0000\n",
       "area            0.6544\n",
       "vagas_garagem   0.5649\n",
       "banheiro        0.4964\n",
       "quarto          0.4067\n",
       "Name: valor_imovel, dtype: float64"
      ]
     },
     "execution_count": 15,
     "metadata": {},
     "output_type": "execute_result"
    }
   ],
   "source": [
    "# Resumo das correlações por variável com o valor do imóvel\n",
    "\n",
    "pd.options.display.float_format = '{:,.4f}'.format\n",
    "cor = df.corr()\n",
    "cor_target = abs(cor[\"valor_imovel\"])\n",
    "variaveis = cor_target[cor_target>0.0]\n",
    "print('Resumo das correlações:\\n')\n",
    "variaveis.sort_values(ascending=False)"
   ]
  },
  {
   "cell_type": "markdown",
   "metadata": {},
   "source": [
    "A correlação de Pearson indica que a área e a quantidade de vagas na garagem possuem correlação moderada com relação ao valor do imóvel e a quantidade de quartos e banheiros possuem uma correlação um pouco mais fraca com o valor do imóvel, mas todas as variáveis possuem correlação positiva."
   ]
  },
  {
   "cell_type": "markdown",
   "metadata": {},
   "source": [
    "#### 6. Quais imóveis são outliers nessa base?\n",
    "A métrica que vou considerar para calcular o z-score será o valor do metro quadrado do imóvel."
   ]
  },
  {
   "cell_type": "code",
   "execution_count": 16,
   "metadata": {},
   "outputs": [],
   "source": [
    "df['valor_m2'] = df['valor_imovel']/df['area']"
   ]
  },
  {
   "cell_type": "code",
   "execution_count": 17,
   "metadata": {},
   "outputs": [
    {
     "data": {
      "image/png": "[encoded data removed]",
      "text/plain": [
       "<Figure size 1800x360 with 1 Axes>"
      ]
     },
     "metadata": {},
     "output_type": "display_data"
    }
   ],
   "source": [
    "f, (ax) = plt.subplots(1, figsize=(25, 5))\n",
    "plot_valor = df['valor_m2'].values\n",
    "sns.histplot (plot_valor, color='#52854C', kde=True, linewidth=0)\n",
    "ax.set_title('DISTRIBUIÇÃO DO VALOR DOS IMÓVEIS POR METRO QUADRADO', fontsize=14)\n",
    "ax.set_xlim(0,np.max(df['valor_m2']))\n",
    "start, end = ax.get_xlim()\n",
    "plt.xticks(rotation=30)\n",
    "ax.xaxis.set_ticks(np.arange(start, end,1000));"
   ]
  },
  {
   "cell_type": "code",
   "execution_count": 18,
   "metadata": {},
   "outputs": [
    {
     "data": {
      "text/html": [
       "<div>\n",
       "<style scoped>\n",
       "    .dataframe tbody tr th:only-of-type {\n",
       "        vertical-align: middle;\n",
       "    }\n",
       "\n",
       "    .dataframe tbody tr th {\n",
       "        vertical-align: top;\n",
       "    }\n",
       "\n",
       "    .dataframe thead th {\n",
       "        text-align: right;\n",
       "    }\n",
       "</style>\n",
       "<table border=\"1\" class=\"dataframe\">\n",
       "  <thead>\n",
       "    <tr style=\"text-align: right;\">\n",
       "      <th></th>\n",
       "      <th>index</th>\n",
       "      <th>area</th>\n",
       "      <th>quarto</th>\n",
       "      <th>banheiro</th>\n",
       "      <th>vagas_garagem</th>\n",
       "      <th>valor_imovel</th>\n",
       "      <th>anunciante</th>\n",
       "      <th>endereco</th>\n",
       "      <th>link</th>\n",
       "      <th>valor_m2</th>\n",
       "      <th>zscore_val_m2</th>\n",
       "    </tr>\n",
       "  </thead>\n",
       "  <tbody>\n",
       "    <tr>\n",
       "      <th>0</th>\n",
       "      <td>427</td>\n",
       "      <td>90.0000</td>\n",
       "      <td>2.0000</td>\n",
       "      <td>2.0000</td>\n",
       "      <td>4.0000</td>\n",
       "      <td>2,300,000.0000</td>\n",
       "      <td>Predial Lins Premium Administração E Vendas Ltda</td>\n",
       "      <td>Avenida Doutor Gentil de Moura, 633 - Ipiranga...</td>\n",
       "      <td>/imovel/casa-2-quartos-ipiranga-zona-sul-sao-p...</td>\n",
       "      <td>25,555.5556</td>\n",
       "      <td>9.4374</td>\n",
       "    </tr>\n",
       "    <tr>\n",
       "      <th>1</th>\n",
       "      <td>167</td>\n",
       "      <td>130.0000</td>\n",
       "      <td>2.0000</td>\n",
       "      <td>1.0000</td>\n",
       "      <td>0.0000</td>\n",
       "      <td>2,650,000.0000</td>\n",
       "      <td>Quinto Andar - Vendas</td>\n",
       "      <td>Rua Agostinho Gomes - Ipiranga, São Paulo - SP</td>\n",
       "      <td>/imovel/casa-2-quartos-ipiranga-zona-sul-sao-p...</td>\n",
       "      <td>20,384.6154</td>\n",
       "      <td>7.0025</td>\n",
       "    </tr>\n",
       "    <tr>\n",
       "      <th>2</th>\n",
       "      <td>545</td>\n",
       "      <td>120.0000</td>\n",
       "      <td>4.0000</td>\n",
       "      <td>4.0000</td>\n",
       "      <td>3.0000</td>\n",
       "      <td>2,200,000.0000</td>\n",
       "      <td>Mega Brasil Consultoria Imobiliária Ltda</td>\n",
       "      <td>Ipiranga, São Paulo - SP</td>\n",
       "      <td>/imovel/casa-4-quartos-ipiranga-zona-sul-sao-p...</td>\n",
       "      <td>18,333.3333</td>\n",
       "      <td>6.0366</td>\n",
       "    </tr>\n",
       "    <tr>\n",
       "      <th>3</th>\n",
       "      <td>1402</td>\n",
       "      <td>300.0000</td>\n",
       "      <td>4.0000</td>\n",
       "      <td>4.0000</td>\n",
       "      <td>2.0000</td>\n",
       "      <td>4,800,000.0000</td>\n",
       "      <td>Lopes Prime</td>\n",
       "      <td>Ipiranga, São Paulo - SP</td>\n",
       "      <td>/imovel/casa-4-quartos-ipiranga-zona-sul-sao-p...</td>\n",
       "      <td>16,000.0000</td>\n",
       "      <td>4.9379</td>\n",
       "    </tr>\n",
       "    <tr>\n",
       "      <th>4</th>\n",
       "      <td>1401</td>\n",
       "      <td>300.0000</td>\n",
       "      <td>4.0000</td>\n",
       "      <td>4.0000</td>\n",
       "      <td>2.0000</td>\n",
       "      <td>4,800,000.0000</td>\n",
       "      <td>Lopes Prime - Moema</td>\n",
       "      <td>Ipiranga, São Paulo - SP</td>\n",
       "      <td>/imovel/casa-4-quartos-ipiranga-zona-sul-sao-p...</td>\n",
       "      <td>16,000.0000</td>\n",
       "      <td>4.9379</td>\n",
       "    </tr>\n",
       "    <tr>\n",
       "      <th>5</th>\n",
       "      <td>1398</td>\n",
       "      <td>300.0000</td>\n",
       "      <td>4.0000</td>\n",
       "      <td>4.0000</td>\n",
       "      <td>2.0000</td>\n",
       "      <td>4,800,000.0000</td>\n",
       "      <td>Lopes Morumbi</td>\n",
       "      <td>Rua Padre Marchetti - Ipiranga, São Paulo - SP</td>\n",
       "      <td>/imovel/casa-4-quartos-ipiranga-zona-sul-sao-p...</td>\n",
       "      <td>16,000.0000</td>\n",
       "      <td>4.9379</td>\n",
       "    </tr>\n",
       "    <tr>\n",
       "      <th>6</th>\n",
       "      <td>76</td>\n",
       "      <td>100.0000</td>\n",
       "      <td>3.0000</td>\n",
       "      <td>4.0000</td>\n",
       "      <td>1.0000</td>\n",
       "      <td>1,500,000.0000</td>\n",
       "      <td>Quinto Andar - Vendas</td>\n",
       "      <td>Rua Cipriano Barata - Ipiranga, São Paulo - SP</td>\n",
       "      <td>/imovel/casa-3-quartos-ipiranga-zona-sul-sao-p...</td>\n",
       "      <td>15,000.0000</td>\n",
       "      <td>4.4671</td>\n",
       "    </tr>\n",
       "    <tr>\n",
       "      <th>7</th>\n",
       "      <td>349</td>\n",
       "      <td>108.0000</td>\n",
       "      <td>3.0000</td>\n",
       "      <td>2.0000</td>\n",
       "      <td>5.0000</td>\n",
       "      <td>1,590,000.0000</td>\n",
       "      <td>Sp House Imobiliária E Administradora - Ltda</td>\n",
       "      <td>Ipiranga, São Paulo - SP</td>\n",
       "      <td>/imovel/casa-3-quartos-ipiranga-zona-sul-sao-p...</td>\n",
       "      <td>14,722.2222</td>\n",
       "      <td>4.3363</td>\n",
       "    </tr>\n",
       "    <tr>\n",
       "      <th>8</th>\n",
       "      <td>1313</td>\n",
       "      <td>300.0000</td>\n",
       "      <td>3.0000</td>\n",
       "      <td>5.0000</td>\n",
       "      <td>8.0000</td>\n",
       "      <td>4,200,000.0000</td>\n",
       "      <td>Paulo Roberto Leardi - Vl Clementino</td>\n",
       "      <td>Rua Acarajé - Ipiranga, São Paulo - SP</td>\n",
       "      <td>/imovel/casa-3-quartos-ipiranga-zona-sul-sao-p...</td>\n",
       "      <td>14,000.0000</td>\n",
       "      <td>3.9962</td>\n",
       "    </tr>\n",
       "    <tr>\n",
       "      <th>9</th>\n",
       "      <td>676</td>\n",
       "      <td>108.0000</td>\n",
       "      <td>3.0000</td>\n",
       "      <td>3.0000</td>\n",
       "      <td>3.0000</td>\n",
       "      <td>1,500,000.0000</td>\n",
       "      <td>Damooca Imóveis</td>\n",
       "      <td>Rua Costa Aguiar - Ipiranga, São Paulo - SP</td>\n",
       "      <td>/imovel/casa-3-quartos-ipiranga-zona-sul-sao-p...</td>\n",
       "      <td>13,888.8889</td>\n",
       "      <td>3.9439</td>\n",
       "    </tr>\n",
       "    <tr>\n",
       "      <th>10</th>\n",
       "      <td>1342</td>\n",
       "      <td>80.0000</td>\n",
       "      <td>3.0000</td>\n",
       "      <td>3.0000</td>\n",
       "      <td>4.0000</td>\n",
       "      <td>1,100,000.0000</td>\n",
       "      <td>Marcelo Kavaleski</td>\n",
       "      <td>Rua Barão de Loreto - Ipiranga, São Paulo - SP</td>\n",
       "      <td>/imovel/casa-3-quartos-ipiranga-zona-sul-sao-p...</td>\n",
       "      <td>13,750.0000</td>\n",
       "      <td>3.8785</td>\n",
       "    </tr>\n",
       "    <tr>\n",
       "      <th>11</th>\n",
       "      <td>541</td>\n",
       "      <td>260.0000</td>\n",
       "      <td>3.0000</td>\n",
       "      <td>3.0000</td>\n",
       "      <td>4.0000</td>\n",
       "      <td>3,500,000.0000</td>\n",
       "      <td>Samuel Da Silva Anastacio Junior</td>\n",
       "      <td>Rua Caetano de Oliveira, 1 - Ipiranga, São Pau...</td>\n",
       "      <td>/imovel/casa-3-quartos-ipiranga-zona-sul-sao-p...</td>\n",
       "      <td>13,461.5385</td>\n",
       "      <td>3.7426</td>\n",
       "    </tr>\n",
       "    <tr>\n",
       "      <th>12</th>\n",
       "      <td>630</td>\n",
       "      <td>211.0000</td>\n",
       "      <td>3.0000</td>\n",
       "      <td>2.0000</td>\n",
       "      <td>10.0000</td>\n",
       "      <td>2,700,000.0000</td>\n",
       "      <td>Mega Brasil Consultoria Imobiliária Ltda</td>\n",
       "      <td>Ipiranga, São Paulo - SP</td>\n",
       "      <td>/imovel/casa-3-quartos-ipiranga-zona-sul-sao-p...</td>\n",
       "      <td>12,796.2085</td>\n",
       "      <td>3.4294</td>\n",
       "    </tr>\n",
       "    <tr>\n",
       "      <th>13</th>\n",
       "      <td>588</td>\n",
       "      <td>110.0000</td>\n",
       "      <td>3.0000</td>\n",
       "      <td>3.0000</td>\n",
       "      <td>5.0000</td>\n",
       "      <td>1,400,000.0000</td>\n",
       "      <td>Araki Imóveis</td>\n",
       "      <td>Rua Lord Cockrane - Ipiranga, São Paulo - SP</td>\n",
       "      <td>/imovel/casa-3-quartos-ipiranga-zona-sul-sao-p...</td>\n",
       "      <td>12,727.2727</td>\n",
       "      <td>3.3969</td>\n",
       "    </tr>\n",
       "    <tr>\n",
       "      <th>14</th>\n",
       "      <td>1159</td>\n",
       "      <td>436.0000</td>\n",
       "      <td>3.0000</td>\n",
       "      <td>5.0000</td>\n",
       "      <td>3.0000</td>\n",
       "      <td>5,500,000.0000</td>\n",
       "      <td>Jorge Taba Consultoria De Imóveis</td>\n",
       "      <td>Rua Cipriano Barata, 000 - Ipiranga, São Paulo...</td>\n",
       "      <td>/imovel/casa-3-quartos-ipiranga-zona-sul-sao-p...</td>\n",
       "      <td>12,614.6789</td>\n",
       "      <td>3.3439</td>\n",
       "    </tr>\n",
       "    <tr>\n",
       "      <th>15</th>\n",
       "      <td>873</td>\n",
       "      <td>144.0000</td>\n",
       "      <td>2.0000</td>\n",
       "      <td>2.0000</td>\n",
       "      <td>4.0000</td>\n",
       "      <td>1,800,000.0000</td>\n",
       "      <td>Icasaa Imóveis E Incorporadora</td>\n",
       "      <td>Ipiranga, São Paulo - SP</td>\n",
       "      <td>/imovel/casa-2-quartos-ipiranga-zona-sul-sao-p...</td>\n",
       "      <td>12,500.0000</td>\n",
       "      <td>3.2899</td>\n",
       "    </tr>\n",
       "    <tr>\n",
       "      <th>16</th>\n",
       "      <td>875</td>\n",
       "      <td>160.0000</td>\n",
       "      <td>5.0000</td>\n",
       "      <td>3.0000</td>\n",
       "      <td>5.0000</td>\n",
       "      <td>2,000,000.0000</td>\n",
       "      <td>Icasaa Imóveis E Incorporadora</td>\n",
       "      <td>Ipiranga, São Paulo - SP</td>\n",
       "      <td>/imovel/casa-5-quartos-ipiranga-zona-sul-sao-p...</td>\n",
       "      <td>12,500.0000</td>\n",
       "      <td>3.2899</td>\n",
       "    </tr>\n",
       "    <tr>\n",
       "      <th>17</th>\n",
       "      <td>871</td>\n",
       "      <td>140.0000</td>\n",
       "      <td>2.0000</td>\n",
       "      <td>1.0000</td>\n",
       "      <td>4.0000</td>\n",
       "      <td>1,700,000.0000</td>\n",
       "      <td>Directa Loja De Imoveis Ltda Epp</td>\n",
       "      <td>Ipiranga, São Paulo - SP</td>\n",
       "      <td>/imovel/casa-2-quartos-ipiranga-zona-sul-sao-p...</td>\n",
       "      <td>12,142.8571</td>\n",
       "      <td>3.1217</td>\n",
       "    </tr>\n",
       "  </tbody>\n",
       "</table>\n",
       "</div>"
      ],
      "text/plain": [
       "    index     area  quarto  banheiro  vagas_garagem   valor_imovel  \\\n",
       "0     427  90.0000  2.0000    2.0000         4.0000 2,300,000.0000   \n",
       "1     167 130.0000  2.0000    1.0000         0.0000 2,650,000.0000   \n",
       "2     545 120.0000  4.0000    4.0000         3.0000 2,200,000.0000   \n",
       "3    1402 300.0000  4.0000    4.0000         2.0000 4,800,000.0000   \n",
       "4    1401 300.0000  4.0000    4.0000         2.0000 4,800,000.0000   \n",
       "5    1398 300.0000  4.0000    4.0000         2.0000 4,800,000.0000   \n",
       "6      76 100.0000  3.0000    4.0000         1.0000 1,500,000.0000   \n",
       "7     349 108.0000  3.0000    2.0000         5.0000 1,590,000.0000   \n",
       "8    1313 300.0000  3.0000    5.0000         8.0000 4,200,000.0000   \n",
       "9     676 108.0000  3.0000    3.0000         3.0000 1,500,000.0000   \n",
       "10   1342  80.0000  3.0000    3.0000         4.0000 1,100,000.0000   \n",
       "11    541 260.0000  3.0000    3.0000         4.0000 3,500,000.0000   \n",
       "12    630 211.0000  3.0000    2.0000        10.0000 2,700,000.0000   \n",
       "13    588 110.0000  3.0000    3.0000         5.0000 1,400,000.0000   \n",
       "14   1159 436.0000  3.0000    5.0000         3.0000 5,500,000.0000   \n",
       "15    873 144.0000  2.0000    2.0000         4.0000 1,800,000.0000   \n",
       "16    875 160.0000  5.0000    3.0000         5.0000 2,000,000.0000   \n",
       "17    871 140.0000  2.0000    1.0000         4.0000 1,700,000.0000   \n",
       "\n",
       "                                          anunciante  \\\n",
       "0   Predial Lins Premium Administração E Vendas Ltda   \n",
       "1                              Quinto Andar - Vendas   \n",
       "2           Mega Brasil Consultoria Imobiliária Ltda   \n",
       "3                                        Lopes Prime   \n",
       "4                                Lopes Prime - Moema   \n",
       "5                                      Lopes Morumbi   \n",
       "6                              Quinto Andar - Vendas   \n",
       "7       Sp House Imobiliária E Administradora - Ltda   \n",
       "8               Paulo Roberto Leardi - Vl Clementino   \n",
       "9                                    Damooca Imóveis   \n",
       "10                                 Marcelo Kavaleski   \n",
       "11                  Samuel Da Silva Anastacio Junior   \n",
       "12          Mega Brasil Consultoria Imobiliária Ltda   \n",
       "13                                     Araki Imóveis   \n",
       "14                 Jorge Taba Consultoria De Imóveis   \n",
       "15                    Icasaa Imóveis E Incorporadora   \n",
       "16                    Icasaa Imóveis E Incorporadora   \n",
       "17                  Directa Loja De Imoveis Ltda Epp   \n",
       "\n",
       "                                             endereco  \\\n",
       "0   Avenida Doutor Gentil de Moura, 633 - Ipiranga...   \n",
       "1      Rua Agostinho Gomes - Ipiranga, São Paulo - SP   \n",
       "2                            Ipiranga, São Paulo - SP   \n",
       "3                            Ipiranga, São Paulo - SP   \n",
       "4                            Ipiranga, São Paulo - SP   \n",
       "5      Rua Padre Marchetti - Ipiranga, São Paulo - SP   \n",
       "6      Rua Cipriano Barata - Ipiranga, São Paulo - SP   \n",
       "7                            Ipiranga, São Paulo - SP   \n",
       "8              Rua Acarajé - Ipiranga, São Paulo - SP   \n",
       "9         Rua Costa Aguiar - Ipiranga, São Paulo - SP   \n",
       "10     Rua Barão de Loreto - Ipiranga, São Paulo - SP   \n",
       "11  Rua Caetano de Oliveira, 1 - Ipiranga, São Pau...   \n",
       "12                           Ipiranga, São Paulo - SP   \n",
       "13       Rua Lord Cockrane - Ipiranga, São Paulo - SP   \n",
       "14  Rua Cipriano Barata, 000 - Ipiranga, São Paulo...   \n",
       "15                           Ipiranga, São Paulo - SP   \n",
       "16                           Ipiranga, São Paulo - SP   \n",
       "17                           Ipiranga, São Paulo - SP   \n",
       "\n",
       "                                                 link    valor_m2  \\\n",
       "0   /imovel/casa-2-quartos-ipiranga-zona-sul-sao-p... 25,555.5556   \n",
       "1   /imovel/casa-2-quartos-ipiranga-zona-sul-sao-p... 20,384.6154   \n",
       "2   /imovel/casa-4-quartos-ipiranga-zona-sul-sao-p... 18,333.3333   \n",
       "3   /imovel/casa-4-quartos-ipiranga-zona-sul-sao-p... 16,000.0000   \n",
       "4   /imovel/casa-4-quartos-ipiranga-zona-sul-sao-p... 16,000.0000   \n",
       "5   /imovel/casa-4-quartos-ipiranga-zona-sul-sao-p... 16,000.0000   \n",
       "6   /imovel/casa-3-quartos-ipiranga-zona-sul-sao-p... 15,000.0000   \n",
       "7   /imovel/casa-3-quartos-ipiranga-zona-sul-sao-p... 14,722.2222   \n",
       "8   /imovel/casa-3-quartos-ipiranga-zona-sul-sao-p... 14,000.0000   \n",
       "9   /imovel/casa-3-quartos-ipiranga-zona-sul-sao-p... 13,888.8889   \n",
       "10  /imovel/casa-3-quartos-ipiranga-zona-sul-sao-p... 13,750.0000   \n",
       "11  /imovel/casa-3-quartos-ipiranga-zona-sul-sao-p... 13,461.5385   \n",
       "12  /imovel/casa-3-quartos-ipiranga-zona-sul-sao-p... 12,796.2085   \n",
       "13  /imovel/casa-3-quartos-ipiranga-zona-sul-sao-p... 12,727.2727   \n",
       "14  /imovel/casa-3-quartos-ipiranga-zona-sul-sao-p... 12,614.6789   \n",
       "15  /imovel/casa-2-quartos-ipiranga-zona-sul-sao-p... 12,500.0000   \n",
       "16  /imovel/casa-5-quartos-ipiranga-zona-sul-sao-p... 12,500.0000   \n",
       "17  /imovel/casa-2-quartos-ipiranga-zona-sul-sao-p... 12,142.8571   \n",
       "\n",
       "    zscore_val_m2  \n",
       "0          9.4374  \n",
       "1          7.0025  \n",
       "2          6.0366  \n",
       "3          4.9379  \n",
       "4          4.9379  \n",
       "5          4.9379  \n",
       "6          4.4671  \n",
       "7          4.3363  \n",
       "8          3.9962  \n",
       "9          3.9439  \n",
       "10         3.8785  \n",
       "11         3.7426  \n",
       "12         3.4294  \n",
       "13         3.3969  \n",
       "14         3.3439  \n",
       "15         3.2899  \n",
       "16         3.2899  \n",
       "17         3.1217  "
      ]
     },
     "execution_count": 18,
     "metadata": {},
     "output_type": "execute_result"
    }
   ],
   "source": [
    "df['zscore_val_m2'] = zscore(df['valor_m2'])\n",
    "outliers = df.loc[df['zscore_val_m2'].abs() > 3]\n",
    "outliers.sort_values('zscore_val_m2', ascending = False).reset_index()"
   ]
  },
  {
   "cell_type": "markdown",
   "metadata": {},
   "source": [
    "Foi utilizado o z-score para identificar os outliers no dataset tomando como base o valor do imóvel por metro quadrado, com isso, foram encontrados 18 imóveis com valores mais discrepantes. Basicamente são os imóveis de valor acima de 12,140k por m2. "
   ]
  },
  {
   "cell_type": "markdown",
   "metadata": {},
   "source": [
    "#### 7. Qual imóvel é o melhor custo-benefício desse dataset?\n",
    "\n",
    "Essa questão é um pouco relativa ao que é melhor para cada comprador, mas utilizando as variáveis disponíveis nesse DataFrame os imóveis de melhor custo benefício são aqueles com menor preço por metro quadrado e quantidade de quartos, banheiros e vagas na garagem mais adequada ao interesse do comprador."
   ]
  },
  {
   "cell_type": "code",
   "execution_count": 19,
   "metadata": {},
   "outputs": [
    {
     "data": {
      "text/html": [
       "<div>\n",
       "<style scoped>\n",
       "    .dataframe tbody tr th:only-of-type {\n",
       "        vertical-align: middle;\n",
       "    }\n",
       "\n",
       "    .dataframe tbody tr th {\n",
       "        vertical-align: top;\n",
       "    }\n",
       "\n",
       "    .dataframe thead th {\n",
       "        text-align: right;\n",
       "    }\n",
       "</style>\n",
       "<table border=\"1\" class=\"dataframe\">\n",
       "  <thead>\n",
       "    <tr style=\"text-align: right;\">\n",
       "      <th></th>\n",
       "      <th>area</th>\n",
       "      <th>quarto</th>\n",
       "      <th>banheiro</th>\n",
       "      <th>vagas_garagem</th>\n",
       "      <th>valor_imovel</th>\n",
       "      <th>anunciante</th>\n",
       "      <th>endereco</th>\n",
       "      <th>link</th>\n",
       "      <th>valor_m2</th>\n",
       "      <th>zscore_val_m2</th>\n",
       "    </tr>\n",
       "  </thead>\n",
       "  <tbody>\n",
       "    <tr>\n",
       "      <th>508</th>\n",
       "      <td>440.0000</td>\n",
       "      <td>2.0000</td>\n",
       "      <td>3.0000</td>\n",
       "      <td>8.0000</td>\n",
       "      <td>650,000.0000</td>\n",
       "      <td>Sh Prime Imóveis</td>\n",
       "      <td>Rua Marquês Maricá - Ipiranga, São Paulo - SP</td>\n",
       "      <td>/imovel/casa-2-quartos-ipiranga-zona-sul-sao-p...</td>\n",
       "      <td>1,477.2727</td>\n",
       "      <td>-1.9004</td>\n",
       "    </tr>\n",
       "    <tr>\n",
       "      <th>1290</th>\n",
       "      <td>350.0000</td>\n",
       "      <td>4.0000</td>\n",
       "      <td>4.0000</td>\n",
       "      <td>3.0000</td>\n",
       "      <td>712,000.0000</td>\n",
       "      <td>Paulo Roberto Leardi - Vl Clementino</td>\n",
       "      <td>Avenida Deputado Rubens Granja - Ipiranga, São...</td>\n",
       "      <td>/imovel/casa-4-quartos-ipiranga-zona-sul-sao-p...</td>\n",
       "      <td>2,034.2857</td>\n",
       "      <td>-1.6381</td>\n",
       "    </tr>\n",
       "    <tr>\n",
       "      <th>1289</th>\n",
       "      <td>350.0000</td>\n",
       "      <td>4.0000</td>\n",
       "      <td>4.0000</td>\n",
       "      <td>3.0000</td>\n",
       "      <td>712,000.0000</td>\n",
       "      <td>Paulo Roberto Leardi - Vl Clementino</td>\n",
       "      <td>Avenida Deputado Rubens Granja - Ipiranga, São...</td>\n",
       "      <td>/imovel/casa-4-quartos-ipiranga-zona-sul-sao-p...</td>\n",
       "      <td>2,034.2857</td>\n",
       "      <td>-1.6381</td>\n",
       "    </tr>\n",
       "    <tr>\n",
       "      <th>126</th>\n",
       "      <td>680.0000</td>\n",
       "      <td>2.0000</td>\n",
       "      <td>2.0000</td>\n",
       "      <td>1.0000</td>\n",
       "      <td>1,385,000.0000</td>\n",
       "      <td>Quinto Andar - Vendas</td>\n",
       "      <td>Rua Leais Paulistanos - Ipiranga, São Paulo - SP</td>\n",
       "      <td>/imovel/casa-2-quartos-ipiranga-zona-sul-sao-p...</td>\n",
       "      <td>2,036.7647</td>\n",
       "      <td>-1.6370</td>\n",
       "    </tr>\n",
       "    <tr>\n",
       "      <th>448</th>\n",
       "      <td>400.0000</td>\n",
       "      <td>2.0000</td>\n",
       "      <td>2.0000</td>\n",
       "      <td>2.0000</td>\n",
       "      <td>900,000.0000</td>\n",
       "      <td>Arbo Imóveis</td>\n",
       "      <td>Rua Lino Coutinho, 1711 - Ipiranga, São Paulo ...</td>\n",
       "      <td>/imovel/casa-2-quartos-ipiranga-zona-sul-sao-p...</td>\n",
       "      <td>2,250.0000</td>\n",
       "      <td>-1.5366</td>\n",
       "    </tr>\n",
       "  </tbody>\n",
       "</table>\n",
       "</div>"
      ],
      "text/plain": [
       "         area  quarto  banheiro  vagas_garagem   valor_imovel  \\\n",
       "508  440.0000  2.0000    3.0000         8.0000   650,000.0000   \n",
       "1290 350.0000  4.0000    4.0000         3.0000   712,000.0000   \n",
       "1289 350.0000  4.0000    4.0000         3.0000   712,000.0000   \n",
       "126  680.0000  2.0000    2.0000         1.0000 1,385,000.0000   \n",
       "448  400.0000  2.0000    2.0000         2.0000   900,000.0000   \n",
       "\n",
       "                                anunciante  \\\n",
       "508                       Sh Prime Imóveis   \n",
       "1290  Paulo Roberto Leardi - Vl Clementino   \n",
       "1289  Paulo Roberto Leardi - Vl Clementino   \n",
       "126                  Quinto Andar - Vendas   \n",
       "448                           Arbo Imóveis   \n",
       "\n",
       "                                               endereco  \\\n",
       "508       Rua Marquês Maricá - Ipiranga, São Paulo - SP   \n",
       "1290  Avenida Deputado Rubens Granja - Ipiranga, São...   \n",
       "1289  Avenida Deputado Rubens Granja - Ipiranga, São...   \n",
       "126    Rua Leais Paulistanos - Ipiranga, São Paulo - SP   \n",
       "448   Rua Lino Coutinho, 1711 - Ipiranga, São Paulo ...   \n",
       "\n",
       "                                                   link   valor_m2  \\\n",
       "508   /imovel/casa-2-quartos-ipiranga-zona-sul-sao-p... 1,477.2727   \n",
       "1290  /imovel/casa-4-quartos-ipiranga-zona-sul-sao-p... 2,034.2857   \n",
       "1289  /imovel/casa-4-quartos-ipiranga-zona-sul-sao-p... 2,034.2857   \n",
       "126   /imovel/casa-2-quartos-ipiranga-zona-sul-sao-p... 2,036.7647   \n",
       "448   /imovel/casa-2-quartos-ipiranga-zona-sul-sao-p... 2,250.0000   \n",
       "\n",
       "      zscore_val_m2  \n",
       "508         -1.9004  \n",
       "1290        -1.6381  \n",
       "1289        -1.6381  \n",
       "126         -1.6370  \n",
       "448         -1.5366  "
      ]
     },
     "execution_count": 19,
     "metadata": {},
     "output_type": "execute_result"
    }
   ],
   "source": [
    "# filtro no z-score de até dois desvios padrão para evitar trazer anúncios duvidósos\n",
    "df_limpo = df.loc[df['zscore_val_m2'].abs() < 2]\n",
    "# filtro de exemplo do objetivo do comprador\n",
    "df_filtro = df_limpo.query('quarto >= 2 &\\\n",
    "                           banheiro >= 2 &\\\n",
    "                           vagas_garagem >= 1 &\\\n",
    "                           area > 300')\n",
    "df_filtro.sort_values('valor_m2', ascending=True).head(5)"
   ]
  },
  {
   "cell_type": "code",
   "execution_count": 20,
   "metadata": {},
   "outputs": [
    {
     "data": {
      "text/plain": [
       "array([], dtype=object)"
      ]
     },
     "execution_count": 20,
     "metadata": {},
     "output_type": "execute_result"
    }
   ],
   "source": [
    "# link para consulta mo site https://www.vivareal.com.br/\n",
    "df_filtro.loc[df_filtro.index == 1251\t, 'link'].values"
   ]
  },
  {
   "cell_type": "markdown",
   "metadata": {},
   "source": [
    "#### 8. Qual é o melhor modelo para prever os preços dos imóveis com base nas características encontradas neste dataset?\n",
    "\n",
    "Como o objetivo desse modelo é prever o valor do imóvel com base nas características, todos os modelos utilizados serão:\n",
    "* LinearRegression\n",
    "* RandomForestRegressor\n",
    "* KNeighborsRegressor\n",
    "* DecisionTreeRegressor\n",
    "* BaggingRegressor\n",
    "* VotingRegressor"
   ]
  },
  {
   "cell_type": "code",
   "execution_count": 21,
   "metadata": {},
   "outputs": [],
   "source": [
    "# deleta as colunas que não serão utilizadas\n",
    "\n",
    "del df_limpo['zscore_val_m2']\n",
    "del df_limpo['valor_m2']\n",
    "del df_limpo['anunciante']\n",
    "del df_limpo['endereco']\n",
    "del df_limpo['link']"
   ]
  },
  {
   "cell_type": "code",
   "execution_count": 22,
   "metadata": {},
   "outputs": [
    {
     "name": "stdout",
     "output_type": "stream",
     "text": [
      "Resumo das correlações:\n",
      "\n"
     ]
    },
    {
     "data": {
      "text/plain": [
       "valor_imovel    1.0000\n",
       "area            0.7330\n",
       "vagas_garagem   0.6104\n",
       "banheiro        0.5359\n",
       "quarto          0.4481\n",
       "Name: valor_imovel, dtype: float64"
      ]
     },
     "execution_count": 22,
     "metadata": {},
     "output_type": "execute_result"
    }
   ],
   "source": [
    "# Resumo das correlações por variável com o valor do imóvel usando o dataset limpo\n",
    "\n",
    "pd.options.display.float_format = '{:,.4f}'.format\n",
    "cor = df_limpo.corr()\n",
    "cor_target = abs(cor[\"valor_imovel\"])\n",
    "variaveis = cor_target[cor_target>0.0]\n",
    "\n",
    "print('Resumo das correlações:\\n')\n",
    "variaveis.sort_values(ascending=False)"
   ]
  },
  {
   "cell_type": "markdown",
   "metadata": {},
   "source": [
    "Como foram retiradas as ofertas com desvio padrão do metro quadrado maior que 2 no zscore, a correlação dos dados restantes melhorou um pouco e poucos registros foram perdidos. \n",
    "\n",
    "Agora a correlação de Pearson das variáveis em relação ao valor do imóvel indica que a área possui forte correlação, a quantidade de vagas na garagem e a quantidade de banheiros possuem correlação moderada e a quantidade de quartos possui correlação um pouco fraca com o valor do imóvel."
   ]
  },
  {
   "cell_type": "code",
   "execution_count": 23,
   "metadata": {},
   "outputs": [
    {
     "data": {
      "text/plain": [
       "(1510, 5)"
      ]
     },
     "execution_count": 23,
     "metadata": {},
     "output_type": "execute_result"
    }
   ],
   "source": [
    "# shape do dataset\n",
    "\n",
    "df_limpo.shape"
   ]
  },
  {
   "cell_type": "code",
   "execution_count": 24,
   "metadata": {},
   "outputs": [
    {
     "data": {
      "image/png": "[encoded data removed]",
      "text/plain": [
       "<Figure size 288x288 with 2 Axes>"
      ]
     },
     "metadata": {},
     "output_type": "display_data"
    }
   ],
   "source": [
    "# Correlação entre as variáveis\n",
    "\n",
    "plt.figure(figsize=(4,4))\n",
    "cor = df_limpo.corr()\n",
    "sns.heatmap(cor, annot=True, cmap=plt.cm.Greens)\n",
    "plt.show()"
   ]
  },
  {
   "cell_type": "markdown",
   "metadata": {},
   "source": [
    "Antes de começar a criar o modelo, vou estruturar um dicionário para guardar os resultados e depois compará-los"
   ]
  },
  {
   "cell_type": "code",
   "execution_count": 25,
   "metadata": {},
   "outputs": [],
   "source": [
    "# criar dicionário\n",
    "\n",
    "resultados = {}"
   ]
  },
  {
   "cell_type": "code",
   "execution_count": 26,
   "metadata": {},
   "outputs": [],
   "source": [
    "# selecionando os atributos\n",
    "\n",
    "atributos = ['vagas_garagem','area','quarto','banheiro']\n",
    "atrib_prev = ['valor_imovel']"
   ]
  },
  {
   "cell_type": "code",
   "execution_count": 27,
   "metadata": {},
   "outputs": [],
   "source": [
    "# criando objetos\n",
    "\n",
    "x = df_limpo[atributos].values\n",
    "y = df_limpo[atrib_prev].values"
   ]
  },
  {
   "cell_type": "code",
   "execution_count": 28,
   "metadata": {},
   "outputs": [],
   "source": [
    "# definindo o tamanho da base de teste\n",
    "\n",
    "split_teste_size = 0.30"
   ]
  },
  {
   "cell_type": "code",
   "execution_count": 29,
   "metadata": {},
   "outputs": [],
   "source": [
    "# criando bases de treino e de teste\n",
    "\n",
    "x_treino, x_teste, y_treino, y_teste = train_test_split(x, y, test_size = split_teste_size, random_state = 42)"
   ]
  },
  {
   "cell_type": "code",
   "execution_count": 30,
   "metadata": {},
   "outputs": [
    {
     "name": "stdout",
     "output_type": "stream",
     "text": [
      "70.00% nos dados de treino\n",
      "30.00% nos dados de teste\n"
     ]
    }
   ],
   "source": [
    "print(\"{0:0.2f}% nos dados de treino\".format((len(x_treino)/len(df_limpo.index))*100))\n",
    "print(\"{0:0.2f}% nos dados de teste\".format((len(x_teste)/len(df_limpo.index))*100))"
   ]
  },
  {
   "cell_type": "markdown",
   "metadata": {},
   "source": [
    "#### Modelo 1 - LinearRegression"
   ]
  },
  {
   "cell_type": "code",
   "execution_count": 31,
   "metadata": {},
   "outputs": [
    {
     "name": "stdout",
     "output_type": "stream",
     "text": [
      "R2  : 0.6036042798394023 - MAE : 214494.4651792257  - MSE : 91764157325.40215  - RMSE: 302925.9931491554\n"
     ]
    }
   ],
   "source": [
    "modelo1 = LinearRegression()\n",
    "modelo1.fit(x_treino,y_treino);\n",
    "\n",
    "y_pred = modelo1.predict(x_teste)\n",
    "\n",
    "r2 = metrics.r2_score(y_teste,y_pred)\n",
    "mae = metrics.mean_absolute_error(y_teste,y_pred)\n",
    "mse = metrics.mean_squared_error(y_teste,y_pred, squared=True)\n",
    "rmse = metrics.mean_squared_error(y_teste,y_pred, squared=False)\n",
    "\n",
    "resultados['LinearRegression'] = {'R2':r2, 'MAE':mae, 'MSE':mse, 'RMSE':rmse}\n",
    "print('R2  :',r2, '- MAE :',mae, ' - MSE :',mse, ' - RMSE:',rmse)"
   ]
  },
  {
   "cell_type": "markdown",
   "metadata": {},
   "source": [
    "#### Modelo 2 - RandomForestRegressor"
   ]
  },
  {
   "cell_type": "code",
   "execution_count": 32,
   "metadata": {},
   "outputs": [
    {
     "name": "stdout",
     "output_type": "stream",
     "text": [
      "R2  : 0.7127761936005298 - MAE : 183749.7251622422  - MSE : 66491259157.29738  - RMSE: 257858.99084053162\n"
     ]
    }
   ],
   "source": [
    "modelo2 = RandomForestRegressor(n_estimators=220, min_samples_leaf=3, random_state=26, max_depth=10 )\n",
    "modelo2.fit(x_treino, y_treino.ravel());\n",
    "\n",
    "y_pred = modelo2.predict(x_teste)\n",
    "\n",
    "r2 = metrics.r2_score(y_teste,y_pred)\n",
    "mae = metrics.mean_absolute_error(y_teste,y_pred)\n",
    "mse = metrics.mean_squared_error(y_teste,y_pred, squared=True)\n",
    "rmse = metrics.mean_squared_error(y_teste,y_pred, squared=False)\n",
    "\n",
    "resultados['RandomForestRegressor'] = {'R2':r2, 'MAE':mae, 'MSE':mse, 'RMSE':rmse}\n",
    "print('R2  :',r2, '- MAE :',mae, ' - MSE :',mse, ' - RMSE:',rmse)\n"
   ]
  },
  {
   "cell_type": "markdown",
   "metadata": {},
   "source": [
    "#### Modelo 3 - KNeighborsRegressor"
   ]
  },
  {
   "cell_type": "code",
   "execution_count": 33,
   "metadata": {},
   "outputs": [
    {
     "name": "stdout",
     "output_type": "stream",
     "text": [
      "R2  : 0.5804469544316352 - MAE : 209550.96081677705  - MSE : 97124993338.19495  - RMSE: 311648.8301569492\n"
     ]
    }
   ],
   "source": [
    "modelo3 = KNeighborsRegressor(n_neighbors=4,metric='euclidean')\n",
    "modelo3.fit(x_treino,y_treino);\n",
    "\n",
    "y_pred = modelo3.predict(x_teste)\n",
    "\n",
    "r2 = metrics.r2_score(y_teste,y_pred)\n",
    "mae = metrics.mean_absolute_error(y_teste,y_pred)\n",
    "mse = metrics.mean_squared_error(y_teste,y_pred, squared=True)\n",
    "rmse = metrics.mean_squared_error(y_teste,y_pred, squared=False)\n",
    "\n",
    "resultados['KNeighborsRegressor'] = {'R2':r2, 'MAE':mae, 'MSE':mse, 'RMSE':rmse}\n",
    "print('R2  :',r2, '- MAE :',mae, ' - MSE :',mse, ' - RMSE:',rmse)"
   ]
  },
  {
   "cell_type": "markdown",
   "metadata": {},
   "source": [
    "#### Modelo 4 - DecisionTreeRegressor"
   ]
  },
  {
   "cell_type": "code",
   "execution_count": 34,
   "metadata": {},
   "outputs": [
    {
     "name": "stdout",
     "output_type": "stream",
     "text": [
      "R2  : 0.406798102039327 - MAE : 202536.42862398823  - MSE : 137324066637.5924  - RMSE: 370572.6199243441\n"
     ]
    }
   ],
   "source": [
    "modelo4 = DecisionTreeRegressor(random_state=26)\n",
    "modelo4.fit(x_treino,y_treino);\n",
    "\n",
    "y_pred = modelo4.predict(x_teste)\n",
    "\n",
    "r2 = metrics.r2_score(y_teste,y_pred)\n",
    "mae = metrics.mean_absolute_error(y_teste,y_pred)\n",
    "mse = metrics.mean_squared_error(y_teste,y_pred, squared=True)\n",
    "rmse = metrics.mean_squared_error(y_teste,y_pred, squared=False)\n",
    "\n",
    "resultados['DecisionTreeRegressor'] = {'R2':r2, 'MAE':mae, 'MSE':mse, 'RMSE':rmse}\n",
    "print('R2  :',r2, '- MAE :',mae, ' - MSE :',mse, ' - RMSE:',rmse)"
   ]
  },
  {
   "cell_type": "markdown",
   "metadata": {},
   "source": [
    "#### Modelo 5 - Ensemble - BaggingRegressor"
   ]
  },
  {
   "cell_type": "code",
   "execution_count": 35,
   "metadata": {},
   "outputs": [
    {
     "name": "stdout",
     "output_type": "stream",
     "text": [
      "R2  : 0.6673088579849051 - MAE : 186264.78349168866  - MSE : 77016780817.59349  - RMSE: 277518.97379745677\n"
     ]
    }
   ],
   "source": [
    "modelo_base = DecisionTreeRegressor(random_state=26)\n",
    "modelo5 = BaggingRegressor(base_estimator=modelo_base, n_estimators=10, random_state=26)\n",
    "modelo5.fit(x_treino,y_treino.ravel());\n",
    "\n",
    "y_pred = modelo5.predict(x_teste)\n",
    "\n",
    "r2 = metrics.r2_score(y_teste,y_pred)\n",
    "mae = metrics.mean_absolute_error(y_teste,y_pred)\n",
    "mse = metrics.mean_squared_error(y_teste,y_pred, squared=True)\n",
    "rmse = metrics.mean_squared_error(y_teste,y_pred, squared=False)\n",
    "\n",
    "resultados['BaggingRegressor'] = {'R2':r2, 'MAE':mae, 'MSE':mse, 'RMSE':rmse}\n",
    "print('R2  :',r2, '- MAE :',mae, ' - MSE :',mse, ' - RMSE:',rmse)"
   ]
  },
  {
   "cell_type": "markdown",
   "metadata": {},
   "source": [
    "#### Modelo 6 - Ensemble - VotingRegressor"
   ]
  },
  {
   "cell_type": "code",
   "execution_count": 36,
   "metadata": {},
   "outputs": [
    {
     "name": "stdout",
     "output_type": "stream",
     "text": [
      "R2  : 0.7014392877713116 - MAE : 189692.23885007264  - MSE : 69115711332.69968  - RMSE: 262898.6712265767\n"
     ]
    }
   ],
   "source": [
    "r1 = LinearRegression()\n",
    "r2 = RandomForestRegressor(n_estimators=190, random_state=26)\n",
    "modelo6 = VotingRegressor([('LR', r1), ('RF', r2)])\n",
    "modelo6.fit(x_treino, y_treino.ravel());\n",
    "\n",
    "y_pred = modelo6.predict(x_teste)\n",
    "\n",
    "r2 = metrics.r2_score(y_teste,y_pred)\n",
    "mae = metrics.mean_absolute_error(y_teste,y_pred)\n",
    "mse = metrics.mean_squared_error(y_teste,y_pred, squared=True)\n",
    "rmse = metrics.mean_squared_error(y_teste,y_pred, squared=False)\n",
    "\n",
    "resultados['VotingRegressor'] = {'R2':r2, 'MAE':mae, 'MSE':mse, 'RMSE':rmse}\n",
    "print('R2  :',r2, '- MAE :',mae, ' - MSE :',mse, ' - RMSE:',rmse)"
   ]
  },
  {
   "cell_type": "code",
   "execution_count": 37,
   "metadata": {},
   "outputs": [
    {
     "name": "stdout",
     "output_type": "stream",
     "text": [
      "Comparação entre os modelos:\n"
     ]
    },
    {
     "data": {
      "text/html": [
       "<style  type=\"text/css\" >\n",
       "#T_d1f34_row0_col0{\n",
       "            background-color:  #ea362a;\n",
       "            color:  #f1f1f1;\n",
       "        }#T_d1f34_row1_col0{\n",
       "            background-color:  #67000d;\n",
       "            color:  #f1f1f1;\n",
       "        }#T_d1f34_row2_col0{\n",
       "            background-color:  #f4503a;\n",
       "            color:  #000000;\n",
       "        }#T_d1f34_row3_col0{\n",
       "            background-color:  #fff5f0;\n",
       "            color:  #000000;\n",
       "        }#T_d1f34_row4_col0{\n",
       "            background-color:  #ac1117;\n",
       "            color:  #f1f1f1;\n",
       "        }#T_d1f34_row5_col0{\n",
       "            background-color:  #79040f;\n",
       "            color:  #f1f1f1;\n",
       "        }</style><table id=\"T_d1f34_\" ><thead>    <tr>        <th class=\"blank level0\" ></th>        <th class=\"col_heading level0 col0\" >R2</th>        <th class=\"col_heading level0 col1\" >MAE</th>        <th class=\"col_heading level0 col2\" >MSE</th>        <th class=\"col_heading level0 col3\" >RMSE</th>    </tr></thead><tbody>\n",
       "                <tr>\n",
       "                        <th id=\"T_d1f34_level0_row0\" class=\"row_heading level0 row0\" >LinearRegression</th>\n",
       "                        <td id=\"T_d1f34_row0_col0\" class=\"data row0 col0\" >0.603604</td>\n",
       "                        <td id=\"T_d1f34_row0_col1\" class=\"data row0 col1\" >214494.465179</td>\n",
       "                        <td id=\"T_d1f34_row0_col2\" class=\"data row0 col2\" >91764157325.402145</td>\n",
       "                        <td id=\"T_d1f34_row0_col3\" class=\"data row0 col3\" >302925.993149</td>\n",
       "            </tr>\n",
       "            <tr>\n",
       "                        <th id=\"T_d1f34_level0_row1\" class=\"row_heading level0 row1\" >RandomForestRegressor</th>\n",
       "                        <td id=\"T_d1f34_row1_col0\" class=\"data row1 col0\" >0.712776</td>\n",
       "                        <td id=\"T_d1f34_row1_col1\" class=\"data row1 col1\" >183749.725162</td>\n",
       "                        <td id=\"T_d1f34_row1_col2\" class=\"data row1 col2\" >66491259157.297379</td>\n",
       "                        <td id=\"T_d1f34_row1_col3\" class=\"data row1 col3\" >257858.990841</td>\n",
       "            </tr>\n",
       "            <tr>\n",
       "                        <th id=\"T_d1f34_level0_row2\" class=\"row_heading level0 row2\" >KNeighborsRegressor</th>\n",
       "                        <td id=\"T_d1f34_row2_col0\" class=\"data row2 col0\" >0.580447</td>\n",
       "                        <td id=\"T_d1f34_row2_col1\" class=\"data row2 col1\" >209550.960817</td>\n",
       "                        <td id=\"T_d1f34_row2_col2\" class=\"data row2 col2\" >97124993338.194946</td>\n",
       "                        <td id=\"T_d1f34_row2_col3\" class=\"data row2 col3\" >311648.830157</td>\n",
       "            </tr>\n",
       "            <tr>\n",
       "                        <th id=\"T_d1f34_level0_row3\" class=\"row_heading level0 row3\" >DecisionTreeRegressor</th>\n",
       "                        <td id=\"T_d1f34_row3_col0\" class=\"data row3 col0\" >0.406798</td>\n",
       "                        <td id=\"T_d1f34_row3_col1\" class=\"data row3 col1\" >202536.428624</td>\n",
       "                        <td id=\"T_d1f34_row3_col2\" class=\"data row3 col2\" >137324066637.592407</td>\n",
       "                        <td id=\"T_d1f34_row3_col3\" class=\"data row3 col3\" >370572.619924</td>\n",
       "            </tr>\n",
       "            <tr>\n",
       "                        <th id=\"T_d1f34_level0_row4\" class=\"row_heading level0 row4\" >BaggingRegressor</th>\n",
       "                        <td id=\"T_d1f34_row4_col0\" class=\"data row4 col0\" >0.667309</td>\n",
       "                        <td id=\"T_d1f34_row4_col1\" class=\"data row4 col1\" >186264.783492</td>\n",
       "                        <td id=\"T_d1f34_row4_col2\" class=\"data row4 col2\" >77016780817.593491</td>\n",
       "                        <td id=\"T_d1f34_row4_col3\" class=\"data row4 col3\" >277518.973797</td>\n",
       "            </tr>\n",
       "            <tr>\n",
       "                        <th id=\"T_d1f34_level0_row5\" class=\"row_heading level0 row5\" >VotingRegressor</th>\n",
       "                        <td id=\"T_d1f34_row5_col0\" class=\"data row5 col0\" >0.701439</td>\n",
       "                        <td id=\"T_d1f34_row5_col1\" class=\"data row5 col1\" >189692.238850</td>\n",
       "                        <td id=\"T_d1f34_row5_col2\" class=\"data row5 col2\" >69115711332.699677</td>\n",
       "                        <td id=\"T_d1f34_row5_col3\" class=\"data row5 col3\" >262898.671227</td>\n",
       "            </tr>\n",
       "    </tbody></table>"
      ],
      "text/plain": [
       "<pandas.io.formats.style.Styler at 0x240459c2070>"
      ]
     },
     "execution_count": 37,
     "metadata": {},
     "output_type": "execute_result"
    }
   ],
   "source": [
    "print(\"Comparação entre os modelos:\")\n",
    "cm = sns.color_palette('Reds', as_cmap=True)\n",
    "pd.DataFrame(resultados).T.style.background_gradient(subset=['R2'], cmap=cm)"
   ]
  },
  {
   "cell_type": "markdown",
   "metadata": {},
   "source": [
    "Apesar de nenhum desses modelos apresentarem resultados satisfatórios, o modelo 2 *RandomForestRegressor* obteve a melhor performance com um R2 de 71,2776% e o erro médio absoluto de 183,7k."
   ]
  },
  {
   "cell_type": "markdown",
   "metadata": {},
   "source": [
    "# Conclusão"
   ]
  },
  {
   "cell_type": "markdown",
   "metadata": {},
   "source": [
    "A coleta efetuada por meio de web scraping no site Viva Real retornou 1577 anúncios de imóveis na região do Ipiranga em São Paulo - SP, desse total, 6 não correspondiam com os filtros aplicados no site por serem de outras regiões ou outro tipo de imóvel e foram descartados durante a análise.\n",
    "\n",
    "A maior parte dos anúncios coletados não possuem informações de rua ou número do imóvel e isso limitou um pouco a comparação entre eles.\n",
    "\n",
    "No processo de limpeza dos dados foram encontrados três anúncios com áreas muito discrepantes (provavelmente um erro do anunciante), a decisão tomada foi editar área desses \n",
    "imóveis para enquadrá-los aos demais.\n",
    "\n",
    "Os principais insights da análise foram:\n",
    "* O valor mediano dos imóveis anunciados é 850k;\n",
    "* Foram encontrados anúncios entre 47k e 5,5MM;\n",
    "* O top 30 anunciantes correspondem a 60% dos anúncios;\n",
    "* Dentre os anúncios com melhor custo benefício, há um imóvel 440 m2 por 650k (a análise se limitou aos dados, é necessário aprofundar um pouco mais).\n",
    "* Apesar de nenhum modelo ter atingido ótimos resultados, o melhor modelo para prever o valor dos imóveis com base nas características desse dataset foi o RandomForestRegressor.    \n"
   ]
  }
 ],
 "metadata": {
  "kernelspec": {
   "display_name": "Python 3",
   "language": "python",
   "name": "python3"
  },
  "language_info": {
   "codemirror_mode": {
    "name": "ipython",
    "version": 3
   },
   "file_extension": ".py",
   "mimetype": "text/x-python",
   "name": "python",
   "nbconvert_exporter": "python",
   "pygments_lexer": "ipython3",
   "version": "3.8.8"
  }
 },
 "nbformat": 4,
 "nbformat_minor": 4
}
